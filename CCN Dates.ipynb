{
 "cells": [
  {
   "cell_type": "code",
   "execution_count": 50,
   "metadata": {},
   "outputs": [
    {
     "name": "stdout",
     "output_type": "stream",
     "text": [
      "2025-01-01 00:00:00\n",
      "2025-12-31 00:00:00\n"
     ]
    }
   ],
   "source": [
    "from datetime import datetime, timedelta\n",
    "import pandas as pd\n",
    "\n",
    "# Define the start and end dates for the year\n",
    "start_date = datetime(2025, 1, 1)\n",
    "end_date = datetime(2025, 12, 31)\n",
    "\n",
    "# Create an empty list to store the dates\n",
    "date_list = []\n",
    "date_list_str = []\n",
    "\n",
    "# Use a loop to generate dates within the specified range\n",
    "current_date = start_date\n",
    "while current_date <= end_date:\n",
    "    date_list.append(current_date) \n",
    "    date_list_str.append(current_date.strftime(\"%m/%d/%Y\")) \n",
    "    current_date += timedelta(days=1)\n",
    "\n",
    "# Create a DataFrame with the dates\n",
    "date_df = pd.DataFrame(date_list, columns=['DateTime'])\n",
    "date_df['Date'] = date_list_str\n",
    "\n",
    "print(start_date)\n",
    "print(end_date)\n"
   ]
  },
  {
   "cell_type": "code",
   "execution_count": 51,
   "metadata": {},
   "outputs": [],
   "source": [
    "# Add a column for the day of the week\n",
    "date_df['Day_of_Week'] = date_df['DateTime'].apply(lambda x: x.strftime('%A'))\n",
    "date_df['Day_of_Week_Index'] = date_df['DateTime'].dt.weekday\n",
    "\n",
    "def check_weekday(date):\n",
    "    day_of_week = date.weekday()\n",
    "    return day_of_week >= 0 and day_of_week <= 4\n",
    "\n",
    "date_df['Weekday?'] = date_df['DateTime'].apply(check_weekday)\n"
   ]
  },
  {
   "cell_type": "code",
   "execution_count": 52,
   "metadata": {},
   "outputs": [
    {
     "name": "stdout",
     "output_type": "stream",
     "text": [
      "[Timestamp('2025-01-31 00:00:00'), Timestamp('2025-02-28 00:00:00'), Timestamp('2025-03-31 00:00:00'), Timestamp('2025-04-30 00:00:00'), Timestamp('2025-05-30 00:00:00'), Timestamp('2025-06-30 00:00:00'), Timestamp('2025-07-31 00:00:00'), Timestamp('2025-08-29 00:00:00'), Timestamp('2025-09-30 00:00:00'), Timestamp('2025-10-31 00:00:00'), Timestamp('2025-11-28 00:00:00'), Timestamp('2025-12-31 00:00:00')]\n"
     ]
    }
   ],
   "source": [
    "# create a list of the last days of the month for each month. List is in 2025-01-01 00:00:00 format\n",
    "last_days = []\n",
    "for i in range(1, 13):\n",
    "    last_days.append(date_df[date_df['DateTime'].dt.month == i].iloc[-1]['DateTime'])\n",
    "\n",
    "for date in last_days:\n",
    "    # if the date is a weekend, set it to the previous Friday\n",
    "    orig_date = date\n",
    "    if date.weekday() >= 5:\n",
    "        date = date - timedelta(days=(date.weekday() - 4))\n",
    "    # replace the date in the list\n",
    "    last_days[last_days.index(orig_date)] = date\n",
    "\n",
    "print(last_days)"
   ]
  },
  {
   "cell_type": "code",
   "execution_count": 53,
   "metadata": {},
   "outputs": [],
   "source": [
    "# Function to check if a date is in the EOM list\n",
    "def check_eom(date):\n",
    "    return date in last_days\n",
    "\n",
    "date_df['End_of_Month?'] = date_df['DateTime'].apply(check_eom)"
   ]
  },
  {
   "cell_type": "code",
   "execution_count": 54,
   "metadata": {},
   "outputs": [],
   "source": [
    "# List of 2025 Holidays\n",
    "holidays = [\n",
    "    datetime(2025, 1, 1), \n",
    "    datetime(2025, 1, 20), \n",
    "    datetime(2025, 2, 17), \n",
    "    datetime(2025, 5, 26), \n",
    "    datetime(2025, 7, 4), \n",
    "    datetime(2025, 9, 1), \n",
    "    datetime(2025, 11, 27), \n",
    "    datetime(2025, 12, 25), \n",
    "    datetime(2026, 1, 1)\n",
    "    ]"
   ]
  },
  {
   "cell_type": "code",
   "execution_count": 55,
   "metadata": {},
   "outputs": [],
   "source": [
    "# Function to check if a date is the day after a Holiday\n",
    "def check_day_after_hol(date):\n",
    "    return (date + timedelta(days=-1)) in holidays\n",
    "    \n",
    "\n",
    "# Apply the check_day_after_hol function to each row in the DataFrame and create a new 'Holiday?' column\n",
    "date_df['Holiday?'] = date_df['DateTime'].apply(check_day_after_hol)"
   ]
  },
  {
   "cell_type": "code",
   "execution_count": 56,
   "metadata": {},
   "outputs": [],
   "source": [
    "# Function to determine the File Date based on EOM, Holiday and/or Weekend\n",
    "\n",
    "def determine_file_date(date):\n",
    "    # file_date is the date + 1 day\n",
    "    file_date = date + timedelta(days=1)\n",
    "    \n",
    "    flag = False\n",
    "    while flag == False:\n",
    "        holiday = check_day_after_hol(file_date)\n",
    "        eom = check_eom(file_date)\n",
    "        weekday = check_weekday(file_date)\n",
    "\n",
    "        if weekday and not holiday and not eom:\n",
    "            return file_date\n",
    "        \n",
    "        file_date += timedelta(days=1)\n",
    "\n",
    "\n",
    "date_df['File Date'] = date_df['DateTime'].apply(determine_file_date)"
   ]
  },
  {
   "cell_type": "code",
   "execution_count": 57,
   "metadata": {},
   "outputs": [],
   "source": [
    "# After Cutoff Function to determine the File Date based on EOM, Holiday and/or Weekend \n",
    "\n",
    "def determine_file_date(date):\n",
    "    if date.weekday() == 4:\n",
    "        file_date = date + timedelta(days=4)\n",
    "    else:\n",
    "        file_date = date + timedelta(days=2)\n",
    "        \n",
    "    flag = False\n",
    "    while not flag:\n",
    "        holiday = check_day_after_hol(file_date)\n",
    "        eom = check_eom(file_date)\n",
    "        weekday = check_weekday(file_date)\n",
    "        # Check the conditions\n",
    "        if weekday and not holiday and not eom:\n",
    "            return file_date\n",
    "        \n",
    "        # Conditions not met, add 1 day to file_date and continue\n",
    "        file_date += timedelta(days=1)\n",
    "\n",
    "\n",
    "date_df['After Cutoff'] = date_df['DateTime'].apply(determine_file_date)"
   ]
  },
  {
   "cell_type": "code",
   "execution_count": 58,
   "metadata": {},
   "outputs": [],
   "source": [
    "date_df['Formatted FD'] = date_df['File Date'].apply(lambda x: x.strftime('%m/%d/%Y'))\n",
    "date_df['Formatted Cutoff'] = date_df['After Cutoff'].apply(lambda x: x.strftime('%m/%d/%Y'))\n",
    "columns_to_drop = ['DateTime', 'File Date', 'After Cutoff','Day_of_Week_Index','Weekday?','End_of_Month?','Holiday?']\n",
    "date_df.drop(columns=columns_to_drop, inplace=True)\n",
    "\n",
    "date_df.to_csv(\"Dates.csv\")"
   ]
  }
 ],
 "metadata": {
  "kernelspec": {
   "display_name": "Python 3",
   "language": "python",
   "name": "python3"
  },
  "language_info": {
   "codemirror_mode": {
    "name": "ipython",
    "version": 3
   },
   "file_extension": ".py",
   "mimetype": "text/x-python",
   "name": "python",
   "nbconvert_exporter": "python",
   "pygments_lexer": "ipython3",
   "version": "3.11.1"
  },
  "orig_nbformat": 4
 },
 "nbformat": 4,
 "nbformat_minor": 2
}
